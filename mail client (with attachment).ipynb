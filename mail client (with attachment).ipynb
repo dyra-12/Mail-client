{
 "cells": [
  {
   "cell_type": "code",
   "execution_count": 2,
   "id": "80dd269f",
   "metadata": {},
   "outputs": [
    {
     "name": "stdout",
     "output_type": "stream",
     "text": [
      "Enter Your Email Address: dyuti.dasmahapatra@gmail.com\n",
      "Enter Your Password: ········\n",
      "Enter Email Destination: fopipep391@ukbob.com\n",
      "Enter Subject: Hi there\n",
      "Enter Message: This is a trial message\n",
      "Enter Filename: profile_pic\n",
      "Enter file path : profile.jpeg\n"
     ]
    },
    {
     "data": {
      "text/plain": [
       "(221,\n",
       " b'2.0.0 closing connection r11-20020a17090b050b00b0020a11217682sm4660028pjz.27 - gsmtp')"
      ]
     },
     "execution_count": 2,
     "metadata": {},
     "output_type": "execute_result"
    }
   ],
   "source": [
    "# Python code to illustrate Sending mail with attachments\n",
    "# from your Gmail account\n",
    "\n",
    "# libraries to be imported\n",
    "import smtplib\n",
    "from email.mime.multipart import MIMEMultipart\n",
    "from email.mime.text import MIMEText\n",
    "from email.mime.base import MIMEBase\n",
    "from email import encoders\n",
    "import getpass\n",
    "\n",
    "fromaddr = input(\"Enter Your Email Address: \")\n",
    "password = getpass.getpass(\"Enter Your Password: \")\n",
    "toaddr = input(\"Enter Email Destination: \")\n",
    "\n",
    "#fromaddr = \"dyuti.dasmahapatra@gmail.com\"\n",
    "#toaddr = \"fopipep391@ukbob.com\"\n",
    "\n",
    "# instance of MIMEMultipart\n",
    "msg = MIMEMultipart()\n",
    "\n",
    "# storing the senders email address\n",
    "msg['From'] = fromaddr\n",
    "\n",
    "# storing the receivers email address\n",
    "msg['To'] = toaddr\n",
    "\n",
    "# storing the subject\n",
    "msg['Subject'] = input(\"Enter Subject: \")\n",
    "\n",
    "# string to store the body of the mail\n",
    "body = input(\"Enter Message: \")\n",
    "\n",
    "# attach the body with the msg instance\n",
    "msg.attach(MIMEText(body, 'plain'))\n",
    "\n",
    "# open the file to be sent\n",
    "#filename = \"File_name_with_extension\"\n",
    "\n",
    "#attachment = open(\"profile.jpeg\", \"rb\")\n",
    "\n",
    "filename = input(\"Enter Filename: \")\n",
    "path = input(\"Enter file path : \")\n",
    "\n",
    "attachment = open(path, \"rb\")\n",
    "\n",
    "# instance of MIMEBase and named as p\n",
    "p = MIMEBase('application', 'octet-stream')\n",
    "\n",
    "# To change the payload into encoded form\n",
    "p.set_payload((attachment).read())\n",
    "\n",
    "# encode into base64\n",
    "encoders.encode_base64(p)\n",
    "\n",
    "p.add_header('Content-Disposition', \"attachment; filename= %s\" % filename)\n",
    "\n",
    "# attach the instance 'p' to instance 'msg'\n",
    "msg.attach(p)\n",
    "\n",
    "# creates SMTP session\n",
    "s = smtplib.SMTP('smtp.gmail.com', 587)\n",
    "\n",
    "# start TLS for security\n",
    "s.starttls()\n",
    "\n",
    "\n",
    "# Authentication\n",
    "s.login(fromaddr, password)\n",
    "\n",
    "# Converts the Multipart msg into a string\n",
    "text = msg.as_string()\n",
    "\n",
    "# sending the mail\n",
    "s.sendmail(fromaddr, toaddr, text)\n",
    "\n",
    "# terminating the session\n",
    "s.quit()\n"
   ]
  },
  {
   "cell_type": "code",
   "execution_count": null,
   "id": "b49c641b",
   "metadata": {},
   "outputs": [],
   "source": [
    "#bvxhywqkaofnrojl\n",
    "#fopipep391@ukbob.com"
   ]
  }
 ],
 "metadata": {
  "kernelspec": {
   "display_name": "Python 3 (ipykernel)",
   "language": "python",
   "name": "python3"
  },
  "language_info": {
   "codemirror_mode": {
    "name": "ipython",
    "version": 3
   },
   "file_extension": ".py",
   "mimetype": "text/x-python",
   "name": "python",
   "nbconvert_exporter": "python",
   "pygments_lexer": "ipython3",
   "version": "3.9.13"
  }
 },
 "nbformat": 4,
 "nbformat_minor": 5
}
